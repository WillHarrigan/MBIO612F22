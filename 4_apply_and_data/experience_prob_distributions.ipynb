{
 "cells": [
  {
   "cell_type": "code",
   "execution_count": 1,
   "id": "de0b52d1",
   "metadata": {
    "pycharm": {
     "name": "#%%\n"
    }
   },
   "outputs": [],
   "source": [
    "# library(tidyverse)\n",
    "library(ggplot2)"
   ]
  },
  {
   "cell_type": "markdown",
   "id": "526a84d8",
   "metadata": {
    "pycharm": {
     "name": "#%% md\n"
    }
   },
   "source": [
    "### Q0\n",
    "\n",
    "* Draw a concepts diagram that uses all the following terminology covered in this module\n",
    "\n",
    "* Probability mass function, outcome, expriment, sample space, Gaussian, probanility mass funciton, probability distribution, binomial, maximum likelihood, parameters, mean and variance, lambda, sample, p-value"
   ]
  },
  {
   "cell_type": "code",
   "execution_count": 1,
   "id": "ef2e6b4d",
   "metadata": {
    "pycharm": {
     "name": "#%%\n"
    }
   },
   "outputs": [],
   "source": [
    "### Write your code here\n",
    "\n"
   ]
  },
  {
   "cell_type": "markdown",
   "id": "b4207bca",
   "metadata": {
    "pycharm": {
     "name": "#%% md\n"
    }
   },
   "source": [
    "###  Q1\n",
    "Write a function that returns the sample space for the experiment consisting of samplign a 4 digit PIN\n",
    "  * Call your function get_all_perms\n",
    "\n",
    "  * Essentially, your function does not take any arguments but returns the sample space consisting of all the four digit numbers\n",
    "   \n",
    "  * The function `expand.grid` expand.grid creates a data frame from all combinations of the supplied vectors or factors. For example:\n",
    " \n",
    "  ```expand.grid(0:1, 0:1, 0:1)```\n",
    "\n",
    "* generates  \n",
    "\n",
    "![](https://www.dropbox.com/s/cnlt4fg8rxd01d6/expand.grid.png?dl=1)\n",
    " \n",
    "\n",
    "* Strategy, use `expand.grid` to generate the permutation for four verctation in the range 0:9\n",
    "  * Return the number of rows in that `data.frame`\n",
    "\n",
    "  "
   ]
  },
  {
   "cell_type": "code",
   "execution_count": 2,
   "id": "e559210c",
   "metadata": {
    "pycharm": {
     "name": "#%%\n"
    }
   },
   "outputs": [],
   "source": [
    "### Write your code here\n",
    "grid<- expand.grid(0:9,0:9,0:9,0:9)\n",
    "get_all_perms <- function() {\n",
    "  (nrow(grid))\n",
    "}"
   ]
  },
  {
   "cell_type": "code",
   "execution_count": 3,
   "id": "5c7bf775",
   "metadata": {
    "pycharm": {
     "name": "#%%\n"
    }
   },
   "outputs": [
    {
     "data": {
      "text/html": [
       "10000"
      ],
      "text/latex": [
       "10000"
      ],
      "text/markdown": [
       "10000"
      ],
      "text/plain": [
       "[1] 10000"
      ]
     },
     "metadata": {},
     "output_type": "display_data"
    }
   ],
   "source": [
    "# Running this should return 10,000\n",
    "get_all_perms()"
   ]
  },
  {
   "cell_type": "markdown",
   "id": "7b5f5dec",
   "metadata": {
    "pycharm": {
     "name": "#%% md\n"
    }
   },
   "source": [
    "###  Q2\n",
    "\n",
    "The function above is not very useful since it always computes the same thing, namely the number of possible permutation of digits. One way to make it more useful is by passing as an argument the number of digits to consider, i.e., the number of columns in `expand.grid`. Let;s call that param `size`, which by default should be `4`. For exmaple:\n",
    "\n",
    "*  `get_all_perms(size = 1 )` will return all the number of size 1 (0-9)\n",
    "*  `get_all_perms(size = 3 )` will return all the permutations of size 3 (000 - to 999)\n",
    "\n",
    "\n",
    "* Hint: `expand.grid` requires the number of input parameters to match the permutation length. We need to automate that so that the number of vectors passed as input matches the `size` values passed into `get_all_perms`\n",
    "  * We can do that using `replicate`\n",
    "  * `replicate(2, c(1,2,3), simplify=FALSE)` will repeat the vector `c(1,2,3)` twice\n",
    "    * We need to pass `replicate` the value `simplify=FALSE` so that it does not convert the output for us into a matrix\n",
    "  * Use pipe (`%>%`) pass the output of `replicate` into expand.grid\n",
    "  * Make sure replicated generate the correct input for exand.grid\n",
    "  "
   ]
  },
  {
   "cell_type": "code",
   "execution_count": 4,
   "id": "a45bbd1d",
   "metadata": {
    "pycharm": {
     "name": "#%%\n"
    }
   },
   "outputs": [],
   "source": [
    "### Write your code here\n",
    "\n",
    "get_all_perms <- function(size) {\n",
    "  grid<- expand.grid(replicate(size,c(0:9),simplify=FALSE))\n",
    "    print(grid)\n",
    "    nrow(grid)\n",
    "}\n",
    "\n"
   ]
  },
  {
   "cell_type": "code",
   "execution_count": 5,
   "id": "ecfba285",
   "metadata": {},
   "outputs": [
    {
     "name": "stdout",
     "output_type": "stream",
     "text": [
      "   Var1\n",
      "1     0\n",
      "2     1\n",
      "3     2\n",
      "4     3\n",
      "5     4\n",
      "6     5\n",
      "7     6\n",
      "8     7\n",
      "9     8\n",
      "10    9\n"
     ]
    },
    {
     "data": {
      "text/html": [
       "10"
      ],
      "text/latex": [
       "10"
      ],
      "text/markdown": [
       "10"
      ],
      "text/plain": [
       "[1] 10"
      ]
     },
     "metadata": {},
     "output_type": "display_data"
    },
    {
     "name": "stdout",
     "output_type": "stream",
     "text": [
      "     Var1 Var2 Var3\n",
      "1       0    0    0\n",
      "2       1    0    0\n",
      "3       2    0    0\n",
      "4       3    0    0\n",
      "5       4    0    0\n",
      "6       5    0    0\n",
      "7       6    0    0\n",
      "8       7    0    0\n",
      "9       8    0    0\n",
      "10      9    0    0\n",
      "11      0    1    0\n",
      "12      1    1    0\n",
      "13      2    1    0\n",
      "14      3    1    0\n",
      "15      4    1    0\n",
      "16      5    1    0\n",
      "17      6    1    0\n",
      "18      7    1    0\n",
      "19      8    1    0\n",
      "20      9    1    0\n",
      "21      0    2    0\n",
      "22      1    2    0\n",
      "23      2    2    0\n",
      "24      3    2    0\n",
      "25      4    2    0\n",
      "26      5    2    0\n",
      "27      6    2    0\n",
      "28      7    2    0\n",
      "29      8    2    0\n",
      "30      9    2    0\n",
      "31      0    3    0\n",
      "32      1    3    0\n",
      "33      2    3    0\n",
      "34      3    3    0\n",
      "35      4    3    0\n",
      "36      5    3    0\n",
      "37      6    3    0\n",
      "38      7    3    0\n",
      "39      8    3    0\n",
      "40      9    3    0\n",
      "41      0    4    0\n",
      "42      1    4    0\n",
      "43      2    4    0\n",
      "44      3    4    0\n",
      "45      4    4    0\n",
      "46      5    4    0\n",
      "47      6    4    0\n",
      "48      7    4    0\n",
      "49      8    4    0\n",
      "50      9    4    0\n",
      "51      0    5    0\n",
      "52      1    5    0\n",
      "53      2    5    0\n",
      "54      3    5    0\n",
      "55      4    5    0\n",
      "56      5    5    0\n",
      "57      6    5    0\n",
      "58      7    5    0\n",
      "59      8    5    0\n",
      "60      9    5    0\n",
      "61      0    6    0\n",
      "62      1    6    0\n",
      "63      2    6    0\n",
      "64      3    6    0\n",
      "65      4    6    0\n",
      "66      5    6    0\n",
      "67      6    6    0\n",
      "68      7    6    0\n",
      "69      8    6    0\n",
      "70      9    6    0\n",
      "71      0    7    0\n",
      "72      1    7    0\n",
      "73      2    7    0\n",
      "74      3    7    0\n",
      "75      4    7    0\n",
      "76      5    7    0\n",
      "77      6    7    0\n",
      "78      7    7    0\n",
      "79      8    7    0\n",
      "80      9    7    0\n",
      "81      0    8    0\n",
      "82      1    8    0\n",
      "83      2    8    0\n",
      "84      3    8    0\n",
      "85      4    8    0\n",
      "86      5    8    0\n",
      "87      6    8    0\n",
      "88      7    8    0\n",
      "89      8    8    0\n",
      "90      9    8    0\n",
      "91      0    9    0\n",
      "92      1    9    0\n",
      "93      2    9    0\n",
      "94      3    9    0\n",
      "95      4    9    0\n",
      "96      5    9    0\n",
      "97      6    9    0\n",
      "98      7    9    0\n",
      "99      8    9    0\n",
      "100     9    9    0\n",
      "101     0    0    1\n",
      "102     1    0    1\n",
      "103     2    0    1\n",
      "104     3    0    1\n",
      "105     4    0    1\n",
      "106     5    0    1\n",
      "107     6    0    1\n",
      "108     7    0    1\n",
      "109     8    0    1\n",
      "110     9    0    1\n",
      "111     0    1    1\n",
      "112     1    1    1\n",
      "113     2    1    1\n",
      "114     3    1    1\n",
      "115     4    1    1\n",
      "116     5    1    1\n",
      "117     6    1    1\n",
      "118     7    1    1\n",
      "119     8    1    1\n",
      "120     9    1    1\n",
      "121     0    2    1\n",
      "122     1    2    1\n",
      "123     2    2    1\n",
      "124     3    2    1\n",
      "125     4    2    1\n",
      "126     5    2    1\n",
      "127     6    2    1\n",
      "128     7    2    1\n",
      "129     8    2    1\n",
      "130     9    2    1\n",
      "131     0    3    1\n",
      "132     1    3    1\n",
      "133     2    3    1\n",
      "134     3    3    1\n",
      "135     4    3    1\n",
      "136     5    3    1\n",
      "137     6    3    1\n",
      "138     7    3    1\n",
      "139     8    3    1\n",
      "140     9    3    1\n",
      "141     0    4    1\n",
      "142     1    4    1\n",
      "143     2    4    1\n",
      "144     3    4    1\n",
      "145     4    4    1\n",
      "146     5    4    1\n",
      "147     6    4    1\n",
      "148     7    4    1\n",
      "149     8    4    1\n",
      "150     9    4    1\n",
      "151     0    5    1\n",
      "152     1    5    1\n",
      "153     2    5    1\n",
      "154     3    5    1\n",
      "155     4    5    1\n",
      "156     5    5    1\n",
      "157     6    5    1\n",
      "158     7    5    1\n",
      "159     8    5    1\n",
      "160     9    5    1\n",
      "161     0    6    1\n",
      "162     1    6    1\n",
      "163     2    6    1\n",
      "164     3    6    1\n",
      "165     4    6    1\n",
      "166     5    6    1\n",
      "167     6    6    1\n",
      "168     7    6    1\n",
      "169     8    6    1\n",
      "170     9    6    1\n",
      "171     0    7    1\n",
      "172     1    7    1\n",
      "173     2    7    1\n",
      "174     3    7    1\n",
      "175     4    7    1\n",
      "176     5    7    1\n",
      "177     6    7    1\n",
      "178     7    7    1\n",
      "179     8    7    1\n",
      "180     9    7    1\n",
      "181     0    8    1\n",
      "182     1    8    1\n",
      "183     2    8    1\n",
      "184     3    8    1\n",
      "185     4    8    1\n",
      "186     5    8    1\n",
      "187     6    8    1\n",
      "188     7    8    1\n",
      "189     8    8    1\n",
      "190     9    8    1\n",
      "191     0    9    1\n",
      "192     1    9    1\n",
      "193     2    9    1\n",
      "194     3    9    1\n",
      "195     4    9    1\n",
      "196     5    9    1\n",
      "197     6    9    1\n",
      "198     7    9    1\n",
      "199     8    9    1\n",
      "200     9    9    1\n",
      "201     0    0    2\n",
      "202     1    0    2\n",
      "203     2    0    2\n",
      "204     3    0    2\n",
      "205     4    0    2\n",
      "206     5    0    2\n",
      "207     6    0    2\n",
      "208     7    0    2\n",
      "209     8    0    2\n",
      "210     9    0    2\n",
      "211     0    1    2\n",
      "212     1    1    2\n",
      "213     2    1    2\n",
      "214     3    1    2\n",
      "215     4    1    2\n",
      "216     5    1    2\n",
      "217     6    1    2\n",
      "218     7    1    2\n",
      "219     8    1    2\n",
      "220     9    1    2\n",
      "221     0    2    2\n",
      "222     1    2    2\n",
      "223     2    2    2\n",
      "224     3    2    2\n",
      "225     4    2    2\n",
      "226     5    2    2\n",
      "227     6    2    2\n",
      "228     7    2    2\n",
      "229     8    2    2\n",
      "230     9    2    2\n",
      "231     0    3    2\n",
      "232     1    3    2\n",
      "233     2    3    2\n",
      "234     3    3    2\n",
      "235     4    3    2\n",
      "236     5    3    2\n",
      "237     6    3    2\n",
      "238     7    3    2\n",
      "239     8    3    2\n",
      "240     9    3    2\n",
      "241     0    4    2\n",
      "242     1    4    2\n",
      "243     2    4    2\n",
      "244     3    4    2\n",
      "245     4    4    2\n",
      "246     5    4    2\n",
      "247     6    4    2\n",
      "248     7    4    2\n",
      "249     8    4    2\n",
      "250     9    4    2\n",
      "251     0    5    2\n",
      "252     1    5    2\n",
      "253     2    5    2\n",
      "254     3    5    2\n",
      "255     4    5    2\n",
      "256     5    5    2\n",
      "257     6    5    2\n",
      "258     7    5    2\n",
      "259     8    5    2\n",
      "260     9    5    2\n",
      "261     0    6    2\n",
      "262     1    6    2\n",
      "263     2    6    2\n",
      "264     3    6    2\n",
      "265     4    6    2\n",
      "266     5    6    2\n",
      "267     6    6    2\n",
      "268     7    6    2\n",
      "269     8    6    2\n",
      "270     9    6    2\n",
      "271     0    7    2\n",
      "272     1    7    2\n",
      "273     2    7    2\n",
      "274     3    7    2\n",
      "275     4    7    2\n",
      "276     5    7    2\n",
      "277     6    7    2\n",
      "278     7    7    2\n",
      "279     8    7    2\n",
      "280     9    7    2\n",
      "281     0    8    2\n",
      "282     1    8    2\n",
      "283     2    8    2\n",
      "284     3    8    2\n",
      "285     4    8    2\n",
      "286     5    8    2\n",
      "287     6    8    2\n",
      "288     7    8    2\n",
      "289     8    8    2\n",
      "290     9    8    2\n",
      "291     0    9    2\n",
      "292     1    9    2\n",
      "293     2    9    2\n",
      "294     3    9    2\n",
      "295     4    9    2\n",
      "296     5    9    2\n",
      "297     6    9    2\n",
      "298     7    9    2\n",
      "299     8    9    2\n",
      "300     9    9    2\n",
      "301     0    0    3\n",
      "302     1    0    3\n",
      "303     2    0    3\n",
      "304     3    0    3\n",
      "305     4    0    3\n",
      "306     5    0    3\n",
      "307     6    0    3\n",
      "308     7    0    3\n",
      "309     8    0    3\n",
      "310     9    0    3\n",
      "311     0    1    3\n",
      "312     1    1    3\n",
      "313     2    1    3\n",
      "314     3    1    3\n",
      "315     4    1    3\n",
      "316     5    1    3\n",
      "317     6    1    3\n",
      "318     7    1    3\n",
      "319     8    1    3\n",
      "320     9    1    3\n",
      "321     0    2    3\n",
      "322     1    2    3\n",
      "323     2    2    3\n",
      "324     3    2    3\n",
      "325     4    2    3\n",
      "326     5    2    3\n",
      "327     6    2    3\n",
      "328     7    2    3\n",
      "329     8    2    3\n",
      "330     9    2    3\n",
      "331     0    3    3\n",
      "332     1    3    3\n",
      "333     2    3    3\n",
      "334     3    3    3\n",
      "335     4    3    3\n",
      "336     5    3    3\n",
      "337     6    3    3\n",
      "338     7    3    3\n",
      "339     8    3    3\n",
      "340     9    3    3\n",
      "341     0    4    3\n",
      "342     1    4    3\n",
      "343     2    4    3\n",
      "344     3    4    3\n",
      "345     4    4    3\n",
      "346     5    4    3\n",
      "347     6    4    3\n",
      "348     7    4    3\n",
      "349     8    4    3\n",
      "350     9    4    3\n",
      "351     0    5    3\n",
      "352     1    5    3\n",
      "353     2    5    3\n",
      "354     3    5    3\n",
      "355     4    5    3\n",
      "356     5    5    3\n",
      "357     6    5    3\n",
      "358     7    5    3\n",
      "359     8    5    3\n",
      "360     9    5    3\n",
      "361     0    6    3\n",
      "362     1    6    3\n",
      "363     2    6    3\n",
      "364     3    6    3\n",
      "365     4    6    3\n",
      "366     5    6    3\n",
      "367     6    6    3\n",
      "368     7    6    3\n",
      "369     8    6    3\n",
      "370     9    6    3\n",
      "371     0    7    3\n",
      "372     1    7    3\n",
      "373     2    7    3\n",
      "374     3    7    3\n",
      "375     4    7    3\n",
      "376     5    7    3\n",
      "377     6    7    3\n",
      "378     7    7    3\n",
      "379     8    7    3\n",
      "380     9    7    3\n",
      "381     0    8    3\n",
      "382     1    8    3\n",
      "383     2    8    3\n",
      "384     3    8    3\n",
      "385     4    8    3\n",
      "386     5    8    3\n",
      "387     6    8    3\n",
      "388     7    8    3\n",
      "389     8    8    3\n",
      "390     9    8    3\n",
      "391     0    9    3\n",
      "392     1    9    3\n",
      "393     2    9    3\n",
      "394     3    9    3\n",
      "395     4    9    3\n",
      "396     5    9    3\n",
      "397     6    9    3\n",
      "398     7    9    3\n",
      "399     8    9    3\n",
      "400     9    9    3\n",
      "401     0    0    4\n",
      "402     1    0    4\n",
      "403     2    0    4\n",
      "404     3    0    4\n",
      "405     4    0    4\n",
      "406     5    0    4\n",
      "407     6    0    4\n",
      "408     7    0    4\n",
      "409     8    0    4\n",
      "410     9    0    4\n",
      "411     0    1    4\n",
      "412     1    1    4\n",
      "413     2    1    4\n",
      "414     3    1    4\n",
      "415     4    1    4\n",
      "416     5    1    4\n",
      "417     6    1    4\n",
      "418     7    1    4\n",
      "419     8    1    4\n",
      "420     9    1    4\n",
      "421     0    2    4\n",
      "422     1    2    4\n",
      "423     2    2    4\n",
      "424     3    2    4\n",
      "425     4    2    4\n",
      "426     5    2    4\n",
      "427     6    2    4\n",
      "428     7    2    4\n",
      "429     8    2    4\n",
      "430     9    2    4\n",
      "431     0    3    4\n",
      "432     1    3    4\n",
      "433     2    3    4\n",
      "434     3    3    4\n",
      "435     4    3    4\n",
      "436     5    3    4\n",
      "437     6    3    4\n",
      "438     7    3    4\n",
      "439     8    3    4\n",
      "440     9    3    4\n",
      "441     0    4    4\n",
      "442     1    4    4\n",
      "443     2    4    4\n",
      "444     3    4    4\n",
      "445     4    4    4\n",
      "446     5    4    4\n",
      "447     6    4    4\n",
      "448     7    4    4\n",
      "449     8    4    4\n",
      "450     9    4    4\n",
      "451     0    5    4\n",
      "452     1    5    4\n",
      "453     2    5    4\n",
      "454     3    5    4\n",
      "455     4    5    4\n",
      "456     5    5    4\n",
      "457     6    5    4\n",
      "458     7    5    4\n",
      "459     8    5    4\n",
      "460     9    5    4\n",
      "461     0    6    4\n",
      "462     1    6    4\n",
      "463     2    6    4\n",
      "464     3    6    4\n",
      "465     4    6    4\n",
      "466     5    6    4\n",
      "467     6    6    4\n",
      "468     7    6    4\n",
      "469     8    6    4\n",
      "470     9    6    4\n",
      "471     0    7    4\n",
      "472     1    7    4\n",
      "473     2    7    4\n",
      "474     3    7    4\n",
      "475     4    7    4\n",
      "476     5    7    4\n",
      "477     6    7    4\n",
      "478     7    7    4\n",
      "479     8    7    4\n",
      "480     9    7    4\n",
      "481     0    8    4\n",
      "482     1    8    4\n",
      "483     2    8    4\n",
      "484     3    8    4\n",
      "485     4    8    4\n",
      "486     5    8    4\n",
      "487     6    8    4\n",
      "488     7    8    4\n",
      "489     8    8    4\n",
      "490     9    8    4\n",
      "491     0    9    4\n",
      "492     1    9    4\n",
      "493     2    9    4\n",
      "494     3    9    4\n",
      "495     4    9    4\n",
      "496     5    9    4\n",
      "497     6    9    4\n",
      "498     7    9    4\n",
      "499     8    9    4\n",
      "500     9    9    4\n",
      "501     0    0    5\n",
      "502     1    0    5\n",
      "503     2    0    5\n",
      "504     3    0    5\n",
      "505     4    0    5\n",
      "506     5    0    5\n",
      "507     6    0    5\n",
      "508     7    0    5\n",
      "509     8    0    5\n",
      "510     9    0    5\n",
      "511     0    1    5\n",
      "512     1    1    5\n",
      "513     2    1    5\n",
      "514     3    1    5\n",
      "515     4    1    5\n",
      "516     5    1    5\n",
      "517     6    1    5\n",
      "518     7    1    5\n",
      "519     8    1    5\n",
      "520     9    1    5\n",
      "521     0    2    5\n",
      "522     1    2    5\n",
      "523     2    2    5\n",
      "524     3    2    5\n",
      "525     4    2    5\n",
      "526     5    2    5\n",
      "527     6    2    5\n",
      "528     7    2    5\n",
      "529     8    2    5\n",
      "530     9    2    5\n",
      "531     0    3    5\n",
      "532     1    3    5\n",
      "533     2    3    5\n",
      "534     3    3    5\n",
      "535     4    3    5\n",
      "536     5    3    5\n",
      "537     6    3    5\n",
      "538     7    3    5\n",
      "539     8    3    5\n",
      "540     9    3    5\n",
      "541     0    4    5\n",
      "542     1    4    5\n",
      "543     2    4    5\n",
      "544     3    4    5\n",
      "545     4    4    5\n",
      "546     5    4    5\n",
      "547     6    4    5\n",
      "548     7    4    5\n",
      "549     8    4    5\n",
      "550     9    4    5\n",
      "551     0    5    5\n",
      "552     1    5    5\n",
      "553     2    5    5\n",
      "554     3    5    5\n",
      "555     4    5    5\n",
      "556     5    5    5\n",
      "557     6    5    5\n",
      "558     7    5    5\n",
      "559     8    5    5\n",
      "560     9    5    5\n",
      "561     0    6    5\n",
      "562     1    6    5\n",
      "563     2    6    5\n",
      "564     3    6    5\n",
      "565     4    6    5\n",
      "566     5    6    5\n",
      "567     6    6    5\n",
      "568     7    6    5\n",
      "569     8    6    5\n",
      "570     9    6    5\n",
      "571     0    7    5\n",
      "572     1    7    5\n",
      "573     2    7    5\n",
      "574     3    7    5\n",
      "575     4    7    5\n",
      "576     5    7    5\n",
      "577     6    7    5\n",
      "578     7    7    5\n",
      "579     8    7    5\n",
      "580     9    7    5\n",
      "581     0    8    5\n",
      "582     1    8    5\n",
      "583     2    8    5\n",
      "584     3    8    5\n",
      "585     4    8    5\n",
      "586     5    8    5\n",
      "587     6    8    5\n",
      "588     7    8    5\n",
      "589     8    8    5\n",
      "590     9    8    5\n",
      "591     0    9    5\n",
      "592     1    9    5\n",
      "593     2    9    5\n",
      "594     3    9    5\n",
      "595     4    9    5\n",
      "596     5    9    5\n",
      "597     6    9    5\n",
      "598     7    9    5\n",
      "599     8    9    5\n",
      "600     9    9    5\n",
      "601     0    0    6\n",
      "602     1    0    6\n",
      "603     2    0    6\n",
      "604     3    0    6\n",
      "605     4    0    6\n",
      "606     5    0    6\n",
      "607     6    0    6\n",
      "608     7    0    6\n",
      "609     8    0    6\n",
      "610     9    0    6\n",
      "611     0    1    6\n",
      "612     1    1    6\n",
      "613     2    1    6\n",
      "614     3    1    6\n",
      "615     4    1    6\n",
      "616     5    1    6\n",
      "617     6    1    6\n",
      "618     7    1    6\n",
      "619     8    1    6\n",
      "620     9    1    6\n",
      "621     0    2    6\n",
      "622     1    2    6\n",
      "623     2    2    6\n",
      "624     3    2    6\n",
      "625     4    2    6\n",
      "626     5    2    6\n",
      "627     6    2    6\n",
      "628     7    2    6\n",
      "629     8    2    6\n",
      "630     9    2    6\n",
      "631     0    3    6\n",
      "632     1    3    6\n",
      "633     2    3    6\n",
      "634     3    3    6\n",
      "635     4    3    6\n",
      "636     5    3    6\n",
      "637     6    3    6\n",
      "638     7    3    6\n",
      "639     8    3    6\n",
      "640     9    3    6\n",
      "641     0    4    6\n",
      "642     1    4    6\n",
      "643     2    4    6\n",
      "644     3    4    6\n",
      "645     4    4    6\n",
      "646     5    4    6\n",
      "647     6    4    6\n",
      "648     7    4    6\n",
      "649     8    4    6\n",
      "650     9    4    6\n",
      "651     0    5    6\n",
      "652     1    5    6\n",
      "653     2    5    6\n",
      "654     3    5    6\n",
      "655     4    5    6\n",
      "656     5    5    6\n",
      "657     6    5    6\n",
      "658     7    5    6\n",
      "659     8    5    6\n",
      "660     9    5    6\n",
      "661     0    6    6\n",
      "662     1    6    6\n",
      "663     2    6    6\n",
      "664     3    6    6\n",
      "665     4    6    6\n",
      "666     5    6    6\n",
      "667     6    6    6\n",
      "668     7    6    6\n",
      "669     8    6    6\n",
      "670     9    6    6\n",
      "671     0    7    6\n",
      "672     1    7    6\n",
      "673     2    7    6\n",
      "674     3    7    6\n",
      "675     4    7    6\n",
      "676     5    7    6\n",
      "677     6    7    6\n",
      "678     7    7    6\n",
      "679     8    7    6\n",
      "680     9    7    6\n",
      "681     0    8    6\n",
      "682     1    8    6\n",
      "683     2    8    6\n",
      "684     3    8    6\n",
      "685     4    8    6\n",
      "686     5    8    6\n",
      "687     6    8    6\n",
      "688     7    8    6\n",
      "689     8    8    6\n",
      "690     9    8    6\n",
      "691     0    9    6\n",
      "692     1    9    6\n",
      "693     2    9    6\n",
      "694     3    9    6\n",
      "695     4    9    6\n",
      "696     5    9    6\n",
      "697     6    9    6\n",
      "698     7    9    6\n",
      "699     8    9    6\n",
      "700     9    9    6\n",
      "701     0    0    7\n",
      "702     1    0    7\n",
      "703     2    0    7\n",
      "704     3    0    7\n",
      "705     4    0    7\n",
      "706     5    0    7\n",
      "707     6    0    7\n",
      "708     7    0    7\n",
      "709     8    0    7\n",
      "710     9    0    7\n",
      "711     0    1    7\n",
      "712     1    1    7\n",
      "713     2    1    7\n",
      "714     3    1    7\n",
      "715     4    1    7\n",
      "716     5    1    7\n",
      "717     6    1    7\n",
      "718     7    1    7\n",
      "719     8    1    7\n",
      "720     9    1    7\n",
      "721     0    2    7\n",
      "722     1    2    7\n",
      "723     2    2    7\n",
      "724     3    2    7\n",
      "725     4    2    7\n",
      "726     5    2    7\n",
      "727     6    2    7\n",
      "728     7    2    7\n",
      "729     8    2    7\n",
      "730     9    2    7\n",
      "731     0    3    7\n",
      "732     1    3    7\n",
      "733     2    3    7\n",
      "734     3    3    7\n",
      "735     4    3    7\n",
      "736     5    3    7\n",
      "737     6    3    7\n",
      "738     7    3    7\n",
      "739     8    3    7\n",
      "740     9    3    7\n",
      "741     0    4    7\n",
      "742     1    4    7\n",
      "743     2    4    7\n",
      "744     3    4    7\n",
      "745     4    4    7\n",
      "746     5    4    7\n",
      "747     6    4    7\n",
      "748     7    4    7\n",
      "749     8    4    7\n",
      "750     9    4    7\n",
      "751     0    5    7\n",
      "752     1    5    7\n",
      "753     2    5    7\n",
      "754     3    5    7\n",
      "755     4    5    7\n",
      "756     5    5    7\n",
      "757     6    5    7\n",
      "758     7    5    7\n",
      "759     8    5    7\n",
      "760     9    5    7\n",
      "761     0    6    7\n",
      "762     1    6    7\n",
      "763     2    6    7\n",
      "764     3    6    7\n",
      "765     4    6    7\n",
      "766     5    6    7\n",
      "767     6    6    7\n",
      "768     7    6    7\n",
      "769     8    6    7\n",
      "770     9    6    7\n",
      "771     0    7    7\n",
      "772     1    7    7\n",
      "773     2    7    7\n",
      "774     3    7    7\n",
      "775     4    7    7\n",
      "776     5    7    7\n",
      "777     6    7    7\n",
      "778     7    7    7\n",
      "779     8    7    7\n",
      "780     9    7    7\n",
      "781     0    8    7\n",
      "782     1    8    7\n",
      "783     2    8    7\n",
      "784     3    8    7\n",
      "785     4    8    7\n",
      "786     5    8    7\n",
      "787     6    8    7\n",
      "788     7    8    7\n",
      "789     8    8    7\n",
      "790     9    8    7\n",
      "791     0    9    7\n",
      "792     1    9    7\n",
      "793     2    9    7\n",
      "794     3    9    7\n",
      "795     4    9    7\n",
      "796     5    9    7\n",
      "797     6    9    7\n",
      "798     7    9    7\n",
      "799     8    9    7\n",
      "800     9    9    7\n",
      "801     0    0    8\n",
      "802     1    0    8\n",
      "803     2    0    8\n",
      "804     3    0    8\n",
      "805     4    0    8\n",
      "806     5    0    8\n",
      "807     6    0    8\n",
      "808     7    0    8\n",
      "809     8    0    8\n",
      "810     9    0    8\n",
      "811     0    1    8\n",
      "812     1    1    8\n",
      "813     2    1    8\n",
      "814     3    1    8\n",
      "815     4    1    8\n",
      "816     5    1    8\n",
      "817     6    1    8\n",
      "818     7    1    8\n",
      "819     8    1    8\n",
      "820     9    1    8\n",
      "821     0    2    8\n",
      "822     1    2    8\n",
      "823     2    2    8\n",
      "824     3    2    8\n",
      "825     4    2    8\n",
      "826     5    2    8\n",
      "827     6    2    8\n",
      "828     7    2    8\n",
      "829     8    2    8\n",
      "830     9    2    8\n",
      "831     0    3    8\n",
      "832     1    3    8\n",
      "833     2    3    8\n",
      "834     3    3    8\n",
      "835     4    3    8\n",
      "836     5    3    8\n",
      "837     6    3    8\n",
      "838     7    3    8\n",
      "839     8    3    8\n",
      "840     9    3    8\n",
      "841     0    4    8\n",
      "842     1    4    8\n",
      "843     2    4    8\n",
      "844     3    4    8\n",
      "845     4    4    8\n",
      "846     5    4    8\n",
      "847     6    4    8\n",
      "848     7    4    8\n",
      "849     8    4    8\n",
      "850     9    4    8\n",
      "851     0    5    8\n",
      "852     1    5    8\n",
      "853     2    5    8\n",
      "854     3    5    8\n",
      "855     4    5    8\n",
      "856     5    5    8\n",
      "857     6    5    8\n",
      "858     7    5    8\n",
      "859     8    5    8\n",
      "860     9    5    8\n",
      "861     0    6    8\n",
      "862     1    6    8\n",
      "863     2    6    8\n",
      "864     3    6    8\n",
      "865     4    6    8\n",
      "866     5    6    8\n",
      "867     6    6    8\n",
      "868     7    6    8\n",
      "869     8    6    8\n",
      "870     9    6    8\n",
      "871     0    7    8\n",
      "872     1    7    8\n",
      "873     2    7    8\n",
      "874     3    7    8\n",
      "875     4    7    8\n",
      "876     5    7    8\n",
      "877     6    7    8\n",
      "878     7    7    8\n",
      "879     8    7    8\n",
      "880     9    7    8\n",
      "881     0    8    8\n",
      "882     1    8    8\n",
      "883     2    8    8\n",
      "884     3    8    8\n",
      "885     4    8    8\n",
      "886     5    8    8\n",
      "887     6    8    8\n",
      "888     7    8    8\n",
      "889     8    8    8\n",
      "890     9    8    8\n",
      "891     0    9    8\n",
      "892     1    9    8\n",
      "893     2    9    8\n",
      "894     3    9    8\n",
      "895     4    9    8\n",
      "896     5    9    8\n",
      "897     6    9    8\n",
      "898     7    9    8\n",
      "899     8    9    8\n",
      "900     9    9    8\n",
      "901     0    0    9\n",
      "902     1    0    9\n",
      "903     2    0    9\n",
      "904     3    0    9\n",
      "905     4    0    9\n",
      "906     5    0    9\n",
      "907     6    0    9\n",
      "908     7    0    9\n",
      "909     8    0    9\n",
      "910     9    0    9\n",
      "911     0    1    9\n",
      "912     1    1    9\n",
      "913     2    1    9\n",
      "914     3    1    9\n",
      "915     4    1    9\n",
      "916     5    1    9\n",
      "917     6    1    9\n",
      "918     7    1    9\n",
      "919     8    1    9\n",
      "920     9    1    9\n",
      "921     0    2    9\n",
      "922     1    2    9\n",
      "923     2    2    9\n",
      "924     3    2    9\n",
      "925     4    2    9\n",
      "926     5    2    9\n",
      "927     6    2    9\n",
      "928     7    2    9\n",
      "929     8    2    9\n",
      "930     9    2    9\n",
      "931     0    3    9\n",
      "932     1    3    9\n",
      "933     2    3    9\n",
      "934     3    3    9\n",
      "935     4    3    9\n",
      "936     5    3    9\n",
      "937     6    3    9\n",
      "938     7    3    9\n",
      "939     8    3    9\n",
      "940     9    3    9\n",
      "941     0    4    9\n",
      "942     1    4    9\n",
      "943     2    4    9\n",
      "944     3    4    9\n",
      "945     4    4    9\n",
      "946     5    4    9\n",
      "947     6    4    9\n",
      "948     7    4    9\n",
      "949     8    4    9\n",
      "950     9    4    9\n",
      "951     0    5    9\n",
      "952     1    5    9\n",
      "953     2    5    9\n",
      "954     3    5    9\n",
      "955     4    5    9\n",
      "956     5    5    9\n",
      "957     6    5    9\n",
      "958     7    5    9\n",
      "959     8    5    9\n",
      "960     9    5    9\n",
      "961     0    6    9\n",
      "962     1    6    9\n",
      "963     2    6    9\n",
      "964     3    6    9\n",
      "965     4    6    9\n",
      "966     5    6    9\n",
      "967     6    6    9\n",
      "968     7    6    9\n",
      "969     8    6    9\n",
      "970     9    6    9\n",
      "971     0    7    9\n",
      "972     1    7    9\n",
      "973     2    7    9\n",
      "974     3    7    9\n",
      "975     4    7    9\n",
      "976     5    7    9\n",
      "977     6    7    9\n",
      "978     7    7    9\n",
      "979     8    7    9\n",
      "980     9    7    9\n",
      "981     0    8    9\n",
      "982     1    8    9\n",
      "983     2    8    9\n",
      "984     3    8    9\n",
      "985     4    8    9\n",
      "986     5    8    9\n",
      "987     6    8    9\n",
      "988     7    8    9\n",
      "989     8    8    9\n",
      "990     9    8    9\n",
      "991     0    9    9\n",
      "992     1    9    9\n",
      "993     2    9    9\n",
      "994     3    9    9\n",
      "995     4    9    9\n",
      "996     5    9    9\n",
      "997     6    9    9\n",
      "998     7    9    9\n",
      "999     8    9    9\n",
      "1000    9    9    9\n"
     ]
    },
    {
     "data": {
      "text/html": [
       "1000"
      ],
      "text/latex": [
       "1000"
      ],
      "text/markdown": [
       "1000"
      ],
      "text/plain": [
       "[1] 1000"
      ]
     },
     "metadata": {},
     "output_type": "display_data"
    }
   ],
   "source": [
    "get_all_perms(size = 1)\n",
    "get_all_perms(size = 3)\n"
   ]
  },
  {
   "cell_type": "markdown",
   "id": "d826dbff",
   "metadata": {
    "pycharm": {
     "name": "#%% md\n"
    }
   },
   "source": [
    "###  Q3\n",
    "\n",
    "* Given a fish disease that occurs with a probability of p= 0.43\n",
    "* You sampled 340 animals\n",
    "* How many of these animals should you expect to see the disease in?\n",
    "* Hint: you will need to compute the probability of each element of the sample space and find the value that has the highest probability"
   ]
  },
  {
   "cell_type": "code",
   "execution_count": 18,
   "id": "8ec880ab",
   "metadata": {
    "pycharm": {
     "name": "#%%\n"
    }
   },
   "outputs": [
    {
     "data": {
      "text/html": [
       "143"
      ],
      "text/latex": [
       "143"
      ],
      "text/markdown": [
       "143"
      ],
      "text/plain": [
       "[1] 143"
      ]
     },
     "metadata": {},
     "output_type": "display_data"
    }
   ],
   "source": [
    "### Write your code here\n",
    "exp_disease<- rbinom(n = 340,size = 1,prob = 0.43)\n",
    "sum(exp_disease)"
   ]
  },
  {
   "cell_type": "markdown",
   "id": "2e17347b",
   "metadata": {
    "pycharm": {
     "name": "#%% md\n"
    }
   },
   "source": [
    "### Q4\n",
    "Plot the two following distributions:\n",
    "\n",
    "$$\n",
    "x \\sim \\mathcal{N}(10, 0.5) \\\\\n",
    "y \\sim \\mathcal{N}(10.2, 0.5) \\\\\n",
    "$$\n",
    "\n",
    "* Your plot should look like the following\n",
    "![](https://www.dropbox.com/s/psrjtl6abjla7z5/sample_gaussian_plot.png?dl=1)\n",
    "\n",
    "\n",
    "* Draw 40 values from the first distribution and store them in a variable called `x_sample`\n",
    "* Draw 40 values from the second distribution and store them in a variable called `y_sample`\n",
    "  * make sure you run the following line before you sample data\n",
    "  ```set.seed(42)```\n",
    " \n",
    "* Do a `t-`test to compute the `x_sample` and `y_sample`\n",
    "  * A `t-`test compares two vectors of values and predicts if the two vectors are from the same distribution\n",
    "  * The format for the t-test in R is\n",
    " \n",
    " `t.test(x,y)` where `x` an `y` are the vectors of values we would like to compare.\n",
    "  * Look at the `p-value`, if it's smaller than say 0.05, then there is a statistically significant difference between the two datasets.\n",
    "\n",
    "* Do you agree with the conclusion of the `t-test`. In other words, would you be comfortable reporting in a publication that the data in `x_sample` and `y_sample` are statistically different?"
   ]
  },
  {
   "cell_type": "code",
   "execution_count": 6,
   "id": "0bf923f9",
   "metadata": {},
   "outputs": [
    {
     "data": {
      "text/html": [
       "<style>\n",
       ".list-inline {list-style: none; margin:0; padding: 0}\n",
       ".list-inline>li {display: inline-block}\n",
       ".list-inline>li:not(:last-child)::after {content: \"\\00b7\"; padding: 0 .5ex}\n",
       "</style>\n",
       "<ol class=list-inline><li>9.90647856414356</li><li>10.2610056926148</li><li>9.86509684617898</li><li>10.2635429647448</li><li>11.2080722315649</li><li>10.0225891330729</li><li>10.3284552877431</li><li>10.191145831658</li><li>10.9992527337088</li><li>10.0557016602362</li><li>10.2233111694249</li><li>10.0868631085086</li><li>10.585182503706</li><li>10.3022382196091</li><li>10.9518894667937</li><li>10.3298970293659</li><li>9.59170371355632</li><li>10.1973856873795</li><li>10.8857257544465</li><li>8.96084210034677</li></ol>\n"
      ],
      "text/latex": [
       "\\begin{enumerate*}\n",
       "\\item 9.90647856414356\n",
       "\\item 10.2610056926148\n",
       "\\item 9.86509684617898\n",
       "\\item 10.2635429647448\n",
       "\\item 11.2080722315649\n",
       "\\item 10.0225891330729\n",
       "\\item 10.3284552877431\n",
       "\\item 10.191145831658\n",
       "\\item 10.9992527337088\n",
       "\\item 10.0557016602362\n",
       "\\item 10.2233111694249\n",
       "\\item 10.0868631085086\n",
       "\\item 10.585182503706\n",
       "\\item 10.3022382196091\n",
       "\\item 10.9518894667937\n",
       "\\item 10.3298970293659\n",
       "\\item 9.59170371355632\n",
       "\\item 10.1973856873795\n",
       "\\item 10.8857257544465\n",
       "\\item 8.96084210034677\n",
       "\\end{enumerate*}\n"
      ],
      "text/markdown": [
       "1. 9.90647856414356\n",
       "2. 10.2610056926148\n",
       "3. 9.86509684617898\n",
       "4. 10.2635429647448\n",
       "5. 11.2080722315649\n",
       "6. 10.0225891330729\n",
       "7. 10.3284552877431\n",
       "8. 10.191145831658\n",
       "9. 10.9992527337088\n",
       "10. 10.0557016602362\n",
       "11. 10.2233111694249\n",
       "12. 10.0868631085086\n",
       "13. 10.585182503706\n",
       "14. 10.3022382196091\n",
       "15. 10.9518894667937\n",
       "16. 10.3298970293659\n",
       "17. 9.59170371355632\n",
       "18. 10.1973856873795\n",
       "19. 10.8857257544465\n",
       "20. 8.96084210034677\n",
       "\n",
       "\n"
      ],
      "text/plain": [
       " [1]  9.906479 10.261006  9.865097 10.263543 11.208072 10.022589 10.328455\n",
       " [8] 10.191146 10.999253 10.055702 10.223311 10.086863 10.585183 10.302238\n",
       "[15] 10.951889 10.329897  9.591704 10.197386 10.885726  8.960842"
      ]
     },
     "metadata": {},
     "output_type": "display_data"
    }
   ],
   "source": [
    "rnorm(20,10,0.5)"
   ]
  },
  {
   "cell_type": "code",
   "execution_count": 7,
   "id": "756f4ec4",
   "metadata": {
    "pycharm": {
     "name": "#%%\n"
    }
   },
   "outputs": [
    {
     "data": {
      "image/png": "[encoded data removed]",
      "text/plain": [
       "plot without title"
      ]
     },
     "metadata": {
      "image/png": {
       "height": 420,
       "width": 420
      }
     },
     "output_type": "display_data"
    }
   ],
   "source": [
    "# Write the code to draw the plot here\n",
    "set.seed(42)\n",
    "\n",
    "x<-seq(8,12,0.1)\n",
    "\n",
    "X_sample<- dnorm(x,10,0.5)\n",
    "Y_sample<- dnorm(x,10.2,0.5)\n",
    "df<- data.frame(X_sample,Y_sample)\n",
    "\n",
    "ggplot(data=df,aes(x=x))+\n",
    "    geom_line(aes(y=X_sample), color = 'red')+\n",
    "    geom_line(aes(y=Y_sample), color = 'blue')"
   ]
  },
  {
   "cell_type": "code",
   "execution_count": 8,
   "id": "67810bdb",
   "metadata": {
    "pycharm": {
     "name": "#%%\n"
    }
   },
   "outputs": [
    {
     "data": {
      "text/plain": [
       "\n",
       "\tWelch Two Sample t-test\n",
       "\n",
       "data:  x_sample and y_sample\n",
       "t = -2.1504, df = 72.3, p-value = 0.03486\n",
       "alternative hypothesis: true difference in means is not equal to 0\n",
       "95 percent confidence interval:\n",
       " -0.50040708 -0.01897381\n",
       "sample estimates:\n",
       "mean of x mean of y \n",
       " 9.980232 10.239922 \n"
      ]
     },
     "metadata": {},
     "output_type": "display_data"
    }
   ],
   "source": [
    "# Write the code to run your t-test here\n",
    "set.seed(42)\n",
    "x_sample <- rnorm(40,10,0.5)\n",
    "y_sample <- rnorm(40,10.2,0.5)\n",
    "\n",
    "t.test(x_sample,y_sample)"
   ]
  },
  {
   "cell_type": "markdown",
   "id": "89d8687a",
   "metadata": {},
   "source": [
    "Answer: \n",
    "\n",
    "Yes the results from the t-test show that there is a significant difference in the dataset. "
   ]
  },
  {
   "cell_type": "markdown",
   "id": "9fedba3e",
   "metadata": {
    "pycharm": {
     "name": "#%% md\n"
    }
   },
   "source": [
    "### Q5\n",
    "\n",
    "* We have used the function `dnorm` to plot the bell-shaped curve for a distribution $ x \\sim \\mathcal{N}(10, 0.5)$\n",
    "  * Use seq(8, 12, 0.1) to generate the x-axis values\n",
    "  * The pdf should look like the following\n",
    "\n",
    "![](https://www.dropbox.com/s/jl2c2atpkxze7ev/sample_pdf_sum_question.png?dl=1)\n",
    "\n",
    "* Use `dnorm` to compute the probability density for each point along the $x-$axis generated using `seq()` above\n",
    "  * What do you notice? Hint, sum the values obtained\n",
    "  \n"
   ]
  },
  {
   "cell_type": "code",
   "execution_count": 9,
   "id": "e6acec6e",
   "metadata": {
    "pycharm": {
     "name": "#%%\n"
    }
   },
   "outputs": [
    {
     "data": {
      "text/html": [
       "9.99959885434281"
      ],
      "text/latex": [
       "9.99959885434281"
      ],
      "text/markdown": [
       "9.99959885434281"
      ],
      "text/plain": [
       "[1] 9.999599"
      ]
     },
     "metadata": {},
     "output_type": "display_data"
    },
    {
     "data": {
      "image/png": "[encoded data removed]",
      "text/plain": [
       "plot without title"
      ]
     },
     "metadata": {
      "image/png": {
       "height": 420,
       "width": 420
      }
     },
     "output_type": "display_data"
    }
   ],
   "source": [
    "# Write the code to run your t-test here\n",
    "x2<- seq(8,12,0.1)\n",
    "\n",
    "x_sample2<- dnorm(x,10,0.5)\n",
    "plot(x2,x_sample2)\n",
    "\n",
    "sum(x_sample2)\n"
   ]
  },
  {
   "cell_type": "markdown",
   "id": "99b70ba3",
   "metadata": {
    "pycharm": {
     "name": "#%%\n"
    }
   },
   "source": [
    "### Q6 Optional Challenge\n",
    "\n",
    "What transformation can you carry out to tranform the value to actual probabilities, i.e., values that sum to 1.  Write code to test whether your hypothesis works."
   ]
  },
  {
   "cell_type": "code",
   "execution_count": null,
   "id": "7ec5aa60",
   "metadata": {},
   "outputs": [],
   "source": [
    "# Write the code here"
   ]
  },
  {
   "cell_type": "code",
   "execution_count": 1,
   "id": "5bc5661e",
   "metadata": {},
   "outputs": [
    {
     "data": {
      "text/html": [
       "11.3709584471467"
      ],
      "text/latex": [
       "11.3709584471467"
      ],
      "text/markdown": [
       "11.3709584471467"
      ],
      "text/plain": [
       "[1] 11.37096"
      ]
     },
     "metadata": {},
     "output_type": "display_data"
    }
   ],
   "source": [
    "set.seed(42)\n",
    "rnorm(1, 10, 1)"
   ]
  },
  {
   "cell_type": "code",
   "execution_count": 2,
   "id": "b572dbb2",
   "metadata": {},
   "outputs": [
    {
     "data": {
      "text/html": [
       "9.43530182860391"
      ],
      "text/latex": [
       "9.43530182860391"
      ],
      "text/markdown": [
       "9.43530182860391"
      ],
      "text/plain": [
       "[1] 9.435302"
      ]
     },
     "metadata": {},
     "output_type": "display_data"
    }
   ],
   "source": [
    "rnorm(1, 10, 1)"
   ]
  },
  {
   "cell_type": "code",
   "execution_count": 3,
   "id": "d2db0153",
   "metadata": {},
   "outputs": [
    {
     "data": {
      "text/html": [
       "10.3631284113373"
      ],
      "text/latex": [
       "10.3631284113373"
      ],
      "text/markdown": [
       "10.3631284113373"
      ],
      "text/plain": [
       "[1] 10.36313"
      ]
     },
     "metadata": {},
     "output_type": "display_data"
    }
   ],
   "source": [
    "rnorm(1, 10, 1)"
   ]
  },
  {
   "cell_type": "code",
   "execution_count": 4,
   "id": "aa01708c",
   "metadata": {},
   "outputs": [],
   "source": [
    "set.seed(42)"
   ]
  },
  {
   "cell_type": "code",
   "execution_count": 5,
   "id": "a10405f8",
   "metadata": {},
   "outputs": [
    {
     "data": {
      "text/html": [
       "11.3709584471467"
      ],
      "text/latex": [
       "11.3709584471467"
      ],
      "text/markdown": [
       "11.3709584471467"
      ],
      "text/plain": [
       "[1] 11.37096"
      ]
     },
     "metadata": {},
     "output_type": "display_data"
    }
   ],
   "source": [
    "rnorm(1, 10, 1)"
   ]
  },
  {
   "cell_type": "code",
   "execution_count": 6,
   "id": "0bea62b9",
   "metadata": {},
   "outputs": [
    {
     "data": {
      "text/html": [
       "9.43530182860391"
      ],
      "text/latex": [
       "9.43530182860391"
      ],
      "text/markdown": [
       "9.43530182860391"
      ],
      "text/plain": [
       "[1] 9.435302"
      ]
     },
     "metadata": {},
     "output_type": "display_data"
    }
   ],
   "source": [
    "rnorm(1, 10, 1)"
   ]
  },
  {
   "cell_type": "code",
   "execution_count": null,
   "id": "d9079aff",
   "metadata": {},
   "outputs": [],
   "source": []
  }
 ],
 "metadata": {
  "kernelspec": {
   "display_name": "R",
   "language": "R",
   "name": "ir"
  },
  "language_info": {
   "codemirror_mode": "r",
   "file_extension": ".r",
   "mimetype": "text/x-r-source",
   "name": "R",
   "pygments_lexer": "r",
   "version": "4.2.1"
  }
 },
 "nbformat": 4,
 "nbformat_minor": 5
}
